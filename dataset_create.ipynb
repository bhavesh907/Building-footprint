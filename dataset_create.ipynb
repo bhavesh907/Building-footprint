{
 "cells": [
  {
   "cell_type": "code",
   "execution_count": 1,
   "metadata": {},
   "outputs": [],
   "source": [
    "import os\n",
    "import random\n",
    "import re\n",
    "from PIL import Image\n",
    "\n",
    "DATA_PATH = '/media/monster/New Volume1/AerialImageDataset/train/'\n",
    "FRAME_PATH = DATA_PATH+'/images_jpeg/'\n",
    "MASK_PATH = DATA_PATH+'/gt_jpeg/'\n",
    "\n",
    "\n",
    "\n",
    "# Create folders to hold images and masks\n",
    "\n",
    "folders = ['train_frames', 'train_masks', 'val_frames', 'val_masks', 'test_frames', 'test_masks']\n",
    "\n",
    "\n",
    "for folder in folders:\n",
    "    os.makedirs(DATA_PATH + folder)\n",
    "  \n",
    "  \n",
    "# Get all frames and masks, sort them, shuffle them to generate data sets.\n",
    "\n",
    "all_frames = os.listdir(FRAME_PATH)\n",
    "all_masks = os.listdir(MASK_PATH)\n",
    "\n",
    "\n",
    "# all_frames.sort(key=lambda var:[int(x) if x.isdigit() else x \n",
    "#                                 for x in re.findall(r'[^0-9]|[0-9]+', var)])\n",
    "# all_masks.sort(key=lambda var:[int(x) if x.isdigit() else x \n",
    "#                                for x in re.findall(r'[^0-9]|[0-9]+', var)])\n",
    "\n",
    "\n",
    "# random.seed(230)\n",
    "# random.shuffle(all_frames)"
   ]
  },
  {
   "cell_type": "code",
   "execution_count": 2,
   "metadata": {},
   "outputs": [],
   "source": [
    "# Generate train, val, and test sets for frames\n",
    "\n",
    "train_split = int(0.7*len(all_frames))\n",
    "val_split = int(0.9 * len(all_frames))\n",
    "\n",
    "train_frames = all_frames[:train_split]\n",
    "val_frames = all_frames[train_split:val_split]\n",
    "test_frames = all_frames[val_split:]\n",
    "\n",
    "\n",
    "# Generate corresponding mask lists for masks\n",
    "\n",
    "train_masks = [f for f in all_masks if f in train_frames]\n",
    "val_masks = [f for f in all_masks if f in val_frames]\n",
    "test_masks = [f for f in all_masks if f in test_frames]\n",
    "\n",
    "\n",
    "#Add train, val, test frames and masks to relevant folders\n",
    "\n",
    "\n",
    "def add_frames(dir_name, image):\n",
    "    img = Image.open(FRAME_PATH+image)\n",
    "    img.save(DATA_PATH+'/{}'.format(dir_name)+'/'+image)\n",
    "\n",
    "def add_masks(dir_name, image):\n",
    "    img = Image.open(MASK_PATH+image)\n",
    "    img.save(DATA_PATH+'/{}'.format(dir_name)+'/'+image)\n",
    "\n",
    "\n",
    "  \n",
    "  \n"
   ]
  },
  {
   "cell_type": "code",
   "execution_count": 3,
   "metadata": {},
   "outputs": [
    {
     "data": {
      "text/plain": [
       "['austin1.jpg',\n",
       " 'austin10.jpg',\n",
       " 'austin11.jpg',\n",
       " 'austin12.jpg',\n",
       " 'austin13.jpg',\n",
       " 'austin14.jpg',\n",
       " 'austin15.jpg',\n",
       " 'austin16.jpg',\n",
       " 'austin17.jpg',\n",
       " 'austin18.jpg']"
      ]
     },
     "execution_count": 3,
     "metadata": {},
     "output_type": "execute_result"
    }
   ],
   "source": [
    "train_frames[:10]"
   ]
  },
  {
   "cell_type": "code",
   "execution_count": 4,
   "metadata": {},
   "outputs": [
    {
     "data": {
      "text/plain": [
       "['austin1.jpg',\n",
       " 'austin10.jpg',\n",
       " 'austin11.jpg',\n",
       " 'austin12.jpg',\n",
       " 'austin13.jpg',\n",
       " 'austin14.jpg',\n",
       " 'austin15.jpg',\n",
       " 'austin16.jpg',\n",
       " 'austin17.jpg',\n",
       " 'austin18.jpg']"
      ]
     },
     "execution_count": 4,
     "metadata": {},
     "output_type": "execute_result"
    }
   ],
   "source": [
    "train_masks[:10]"
   ]
  },
  {
   "cell_type": "code",
   "execution_count": 5,
   "metadata": {},
   "outputs": [],
   "source": [
    "frame_folders = [(train_frames, 'train_frames'), (val_frames, 'val_frames'), \n",
    "                 (test_frames, 'test_frames')]\n",
    "\n",
    "mask_folders = [(train_masks, 'train_masks'), (val_masks, 'val_masks'), \n",
    "                (test_masks, 'test_masks')]\n",
    "\n",
    "# Add frames\n",
    "\n",
    "for folder in frame_folders:\n",
    "    array = folder[0]\n",
    "    name = [folder[1]] * len(array)\n",
    "    list(map(add_frames, name, array))\n",
    "         \n",
    "    \n",
    "# Add masks\n",
    "\n",
    "for folder in mask_folders:\n",
    "    array = folder[0]\n",
    "    name = [folder[1]] * len(array)\n",
    "    list(map(add_masks, name, array))"
   ]
  },
  {
   "cell_type": "code",
   "execution_count": null,
   "metadata": {},
   "outputs": [],
   "source": []
  },
  {
   "cell_type": "code",
   "execution_count": null,
   "metadata": {},
   "outputs": [],
   "source": []
  },
  {
   "cell_type": "code",
   "execution_count": null,
   "metadata": {},
   "outputs": [],
   "source": []
  },
  {
   "cell_type": "code",
   "execution_count": null,
   "metadata": {},
   "outputs": [],
   "source": []
  },
  {
   "cell_type": "code",
   "execution_count": null,
   "metadata": {},
   "outputs": [],
   "source": []
  },
  {
   "cell_type": "code",
   "execution_count": null,
   "metadata": {},
   "outputs": [],
   "source": []
  },
  {
   "cell_type": "code",
   "execution_count": null,
   "metadata": {},
   "outputs": [],
   "source": []
  },
  {
   "cell_type": "code",
   "execution_count": null,
   "metadata": {},
   "outputs": [],
   "source": []
  }
 ],
 "metadata": {
  "kernelspec": {
   "display_name": "tensorflow",
   "language": "python",
   "name": "tensorflow"
  },
  "language_info": {
   "codemirror_mode": {
    "name": "ipython",
    "version": 2
   },
   "file_extension": ".py",
   "mimetype": "text/x-python",
   "name": "python",
   "nbconvert_exporter": "python",
   "pygments_lexer": "ipython2",
   "version": "2.7.15"
  }
 },
 "nbformat": 4,
 "nbformat_minor": 2
}
